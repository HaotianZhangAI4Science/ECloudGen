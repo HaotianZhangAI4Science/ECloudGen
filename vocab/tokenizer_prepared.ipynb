{
 "cells": [
  {
   "cell_type": "code",
   "execution_count": 1,
   "metadata": {},
   "outputs": [],
   "source": [
    "from rdkit import Chem\n",
    "import json"
   ]
  },
  {
   "cell_type": "code",
   "execution_count": 2,
   "metadata": {},
   "outputs": [],
   "source": [
    "vocab = ['<pad>','C','N','O'] # alternate this with your vocab\n",
    "vocab2num = {k: i for i, k in enumerate(vocab)}\n"
   ]
  },
  {
   "cell_type": "code",
   "execution_count": null,
   "metadata": {},
   "outputs": [],
   "source": [
    "# template for tokenizer\n",
    "with open('./tokenizer.json', 'r') as file:\n",
    "    template = json.load(file)\n",
    "template['model']['vocab'] = sorted_vocab # change to the sorted vocab you want\n",
    "save_filed_name = './user_defined_tokenizer.json'\n",
    "with open('save_filed_name', 'w') as file: # save to the file you want\n",
    "    json.dump(template, f, indent=4) "
   ]
  }
 ],
 "metadata": {
  "kernelspec": {
   "display_name": "ecloud2d",
   "language": "python",
   "name": "python3"
  },
  "language_info": {
   "codemirror_mode": {
    "name": "ipython",
    "version": 3
   },
   "file_extension": ".py",
   "mimetype": "text/x-python",
   "name": "python",
   "nbconvert_exporter": "python",
   "pygments_lexer": "ipython3",
   "version": "3.8.17"
  },
  "orig_nbformat": 4
 },
 "nbformat": 4,
 "nbformat_minor": 2
}
