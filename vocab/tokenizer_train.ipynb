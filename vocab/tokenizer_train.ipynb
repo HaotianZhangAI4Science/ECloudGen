{
 "cells": [
  {
   "cell_type": "code",
   "execution_count": 1,
   "metadata": {},
   "outputs": [
    {
     "name": "stderr",
     "output_type": "stream",
     "text": [
      "/home/lojrbx/miniconda3/envs/CSAI/lib/python3.9/site-packages/tqdm/auto.py:22: TqdmWarning: IProgress not found. Please update jupyter and ipywidgets. See https://ipywidgets.readthedocs.io/en/stable/user_install.html\n",
      "  from .autonotebook import tqdm as notebook_tqdm\n"
     ]
    }
   ],
   "source": [
    "from transformers import GPT2Config, GPT2LMHeadModel, PreTrainedTokenizerFast\n",
    "import torch\n",
    "from rdkit import Chem\n",
    "from torch.utils.data import Dataset\n",
    "from tokenization import SMILESBPETokenizer, SMILESAlphabet\n",
    "import os"
   ]
  },
  {
   "cell_type": "code",
   "execution_count": null,
   "metadata": {},
   "outputs": [],
   "source": [
    "# Tokenizer, model, optimizer, scheduler, and trainer hyperparameters.\n",
    "hyperparams = {\"batch_size\": 64, \"max_epochs\": 15, \"max_length\": 256,\n",
    "               \"learning_rate\": 5e-4, \"weight_decay\": 0.0,\n",
    "               \"adam_eps\": 1e-8, \"adam_betas\": (0.9, 0.999),\n",
    "               \"scheduler_T_max\": 1_000, \"final_learning_rate\": 5e-8,\n",
    "               \"vocab_size\": 1_000, \"min_frequency\": 2, \"top_p\": 0.96,\n",
    "               \"n_layer\": 2, \"n_head\": 4, \"n_embd\": 128}\n",
    "\n"
   ]
  },
  {
   "cell_type": "code",
   "execution_count": null,
   "metadata": {},
   "outputs": [],
   "source": [
    "# 10K subset of PubChem SMILES dataset.\n",
    "# filename = \"data/pubchem-10k.txt\"\n",
    "filedir = '../augmented/'\n",
    "filename = os.listdir(filedir)\n",
    "# Directory to serialize a tokenizer and model.\n",
    "checkpoint = \"checkpoints/train\"\n",
    "tokenizer_filename = f\"{checkpoint}/tokenizer.json\"\n",
    "\n"
   ]
  },
  {
   "cell_type": "code",
   "execution_count": 3,
   "metadata": {},
   "outputs": [
    {
     "data": {
      "text/plain": [
       "72"
      ]
     },
     "execution_count": 3,
     "metadata": {},
     "output_type": "execute_result"
    }
   ],
   "source": [
    "alphabet = list(SMILESAlphabet().get_alphabet())\n",
    "len(alphabet)"
   ]
  },
  {
   "cell_type": "code",
   "execution_count": null,
   "metadata": {},
   "outputs": [],
   "source": [
    "tokenizer = SMILESBPETokenizer(dropout=None)\n",
    "tokenizer.train(filename,\n",
    "                vocab_size=hyperparams[\"vocab_size\"] + len(alphabet),\n",
    "                min_frequency=hyperparams[\"min_frequency\"],\n",
    "                initial_alphabet=alphabet)"
   ]
  }
 ],
 "metadata": {
  "kernelspec": {
   "display_name": "CSAI",
   "language": "python",
   "name": "python3"
  },
  "language_info": {
   "codemirror_mode": {
    "name": "ipython",
    "version": 3
   },
   "file_extension": ".py",
   "mimetype": "text/x-python",
   "name": "python",
   "nbconvert_exporter": "python",
   "pygments_lexer": "ipython3",
   "version": "3.8.17"
  },
  "orig_nbformat": 4
 },
 "nbformat": 4,
 "nbformat_minor": 2
}
