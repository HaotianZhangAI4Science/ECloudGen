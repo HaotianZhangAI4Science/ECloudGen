{
 "cells": [
  {
   "cell_type": "code",
   "execution_count": 25,
   "metadata": {},
   "outputs": [],
   "source": [
    "import sys\n",
    "import logging\n",
    "sys.path.append('../../') # locate to the main directory\n",
    "logger = logging.getLogger(\"moleculekit.smallmol.smallmol\")\n",
    "logger.setLevel(logging.WARNING)\n",
    "logger = logging.getLogger(__name__)\n",
    "from utils.protein_ligand import protocol, get_occu_ecloud_pair\n",
    "from rdkit import Chem\n",
    "from utils.chem import set_mol_position, read_sdf, pocket_trunction\n",
    "\n",
    "from ecloud_utils.xtb_density import CDCalculator, interplot_ecloud\n",
    "from ecloud_utils.grid import rotate, BuildGridCenters, generate_sigmas\n",
    "from moleculekit.util import uniformRandomRotation"
   ]
  },
  {
   "cell_type": "code",
   "execution_count": 3,
   "metadata": {},
   "outputs": [],
   "source": [
    "protein_path = './7ux5_protein.pdb'\n",
    "ligand_path = './7ux5_peptide.sdf'\n",
    "\n",
    "pkt_mol = Chem.MolFromPDBFile(protein_path)\n",
    "lig_mol = read_sdf(ligand_path)[0]"
   ]
  },
  {
   "cell_type": "code",
   "execution_count": 26,
   "metadata": {},
   "outputs": [],
   "source": [
    "pkt_channel, lig_density = get_occu_ecloud_pair(pkt_mol, lig_mol, grid_protocol=protocol(32))"
   ]
  }
 ],
 "metadata": {
  "kernelspec": {
   "display_name": "ecloud",
   "language": "python",
   "name": "python3"
  },
  "language_info": {
   "codemirror_mode": {
    "name": "ipython",
    "version": 3
   },
   "file_extension": ".py",
   "mimetype": "text/x-python",
   "name": "python",
   "nbconvert_exporter": "python",
   "pygments_lexer": "ipython3",
   "version": "3.9.19"
  },
  "orig_nbformat": 4
 },
 "nbformat": 4,
 "nbformat_minor": 2
}
