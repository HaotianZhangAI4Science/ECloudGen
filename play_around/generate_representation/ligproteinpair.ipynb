{
 "cells": [
  {
   "cell_type": "code",
   "execution_count": 7,
   "metadata": {},
   "outputs": [],
   "source": [
    "import numpy as np\n",
    "from moleculekit.tools.voxeldescriptors import _getOccupancyC\n",
    "from moleculekit.util import uniformRandomRotation\n",
    "from moleculekit.smallmol.smallmol import SmallMol\n",
    "from rdkit import Chem\n",
    "from htmd_utils2 import _getChannelRadii\n",
    "from grid2 import BuildGridCenters, generate_sigmas, rotate\n",
    "from xtb_density import CDCalculator, interplot_ecloud\n",
    "from chem import set_mol_position, read_sdf"
   ]
  },
  {
   "cell_type": "code",
   "execution_count": 8,
   "metadata": {},
   "outputs": [],
   "source": [
    "def protocol(mode=32):\n",
    "    '''\n",
    "    Define the grid protocol, including grid size, resolution, and grid centers\n",
    "        grid size: 32 or 64\n",
    "        resolution: 0.5 or 0.2\n",
    "        grid centers: the center of the grid\n",
    "    Input:\n",
    "        mode: grid mode, 32 or 64\n",
    "    Output:\n",
    "        {'grids':grids, 'N':N}\n",
    "    '''\n",
    "    size = mode\n",
    "    N = [size, size, size]\n",
    "    if mode == 32:\n",
    "        resolution = 0.5\n",
    "        llc = (np.zeros(3) - float(size * resolution / 2)) + resolution / 2\n",
    "        grids = BuildGridCenters(llc, N, resolution)\n",
    "    elif mode == 64:\n",
    "        resolution = 0.2\n",
    "        llc = (np.zeros(3) - float(size * resolution / 2)) + resolution / 2\n",
    "        grids = BuildGridCenters(llc, N, resolution)\n",
    "    \n",
    "    return {'grids':grids, 'N':N}"
   ]
  },
  {
   "cell_type": "code",
   "execution_count": 9,
   "metadata": {},
   "outputs": [
    {
     "name": "stderr",
     "output_type": "stream",
     "text": [
      "2024-04-26 16:42:04,014 - moleculekit.smallmol.smallmol - INFO - Adding any missing hydrogens (fixHs=True)\n"
     ]
    }
   ],
   "source": [
    "pkt_mol = SmallMol('protein_pocket.pdb')\n",
    "pkt_sigmas, pkt_coords, pkt_center = generate_sigmas(pkt_mol)"
   ]
  },
  {
   "cell_type": "code",
   "execution_count": 10,
   "metadata": {},
   "outputs": [],
   "source": [
    "grid_protocol = protocol(64)\n",
    "pkt_grids = grid_protocol['grids'] + pkt_center\n",
    "size = grid_protocol['N'][0]\n",
    "pkt_channel = _getOccupancyC(pkt_coords.astype(np.float32),\n",
    "                                pkt_grids.reshape(-1, 3),\n",
    "                                pkt_sigmas).reshape(size, size, size, 5)"
   ]
  },
  {
   "cell_type": "code",
   "execution_count": 11,
   "metadata": {},
   "outputs": [
    {
     "data": {
      "text/plain": [
       "(64, 64, 64, 5)"
      ]
     },
     "execution_count": 11,
     "metadata": {},
     "output_type": "execute_result"
    }
   ],
   "source": [
    "# 0 for hydrogen channel, 1 for Aromatic channel, 2 for Acceptor channel, \n",
    "# 3 for Donor channel, 4 for Vdw channel\n",
    "pkt_channel.shape "
   ]
  },
  {
   "cell_type": "code",
   "execution_count": 21,
   "metadata": {},
   "outputs": [],
   "source": [
    "calculater = CDCalculator(xtb_command='xtb')\n",
    "\n",
    "def get_ecloud_pair(pkt_mol, lig_mol, grid_protocol):\n",
    "    pkt_smallmol = SmallMol(pkt_mol)\n",
    "\n",
    "    lig_coords = lig_mol.GetConformer().GetPositions()\n",
    "    lig_center = lig_coords.mean(axis=0)\n",
    "\n",
    "    # define the pkt channel\n",
    "    pkt_sigmas, pkt_coords, pkt_center = generate_sigmas(pkt_smallmol)\n",
    "\n",
    "    # use the pkt_center as the whole center\n",
    "    pkt_grids = grid_protocol['grids'] + pkt_center\n",
    "    lig_grids = grid_protocol['grids'] + pkt_center\n",
    "\n",
    "    # Do the random rotation\n",
    "    rrot = uniformRandomRotation()  # Rotation\n",
    "    lig_coords = rotate(lig_coords, rrot, center=pkt_center)\n",
    "    # pkt_coords_ = rotate(pkt_mol.GetConformer().GetPositions(), rrot, center=pkt_center)\n",
    "    pkt_coords = rotate(pkt_coords, rrot, center=pkt_center)\n",
    "    size = grid_protocol['N'][0]\n",
    "    # use VdW occupancy to represent the pkt channel\n",
    "    pkt_channel = _getOccupancyC(pkt_coords.astype(np.float32),\n",
    "                                 pkt_grids.reshape(-1, 3),\n",
    "                                 pkt_sigmas).reshape(size, size, size, 5)\n",
    "    # set the ligand position for the ecloud calculation\n",
    "    rotated_lig_mol = set_mol_position(lig_mol, lig_coords)\n",
    "    lig_ecloud = calculater.calculate(rotated_lig_mol)\n",
    "\n",
    "    # interplot the ecloud to the grid, manually transform the ligand grid coordinate and its densitu to the pkt grid\n",
    "    lig_density = interplot_ecloud(lig_ecloud, lig_grids.transpose(3, 0, 1, 2)).reshape(grid_protocol['N'])\n",
    "\n",
    "    return pkt_channel, lig_density"
   ]
  },
  {
   "cell_type": "code",
   "execution_count": 19,
   "metadata": {},
   "outputs": [],
   "source": [
    "lig_mol = read_sdf('ligand.sdf')[0]\n",
    "pkt_mol = Chem.MolFromPDBFile('protein_pocket.pdb')"
   ]
  },
  {
   "cell_type": "code",
   "execution_count": 22,
   "metadata": {},
   "outputs": [
    {
     "name": "stderr",
     "output_type": "stream",
     "text": [
      "2024-04-26 16:45:23,436 - moleculekit.smallmol.smallmol - INFO - Adding any missing hydrogens (fixHs=True)\n"
     ]
    }
   ],
   "source": [
    "pkt_channel, lig_density = get_ecloud_pair(pkt_mol, lig_mol, grid_protocol)"
   ]
  },
  {
   "cell_type": "code",
   "execution_count": null,
   "metadata": {},
   "outputs": [],
   "source": [
    "pkt_channel.shape"
   ]
  }
 ],
 "metadata": {
  "kernelspec": {
   "display_name": "ecloudgen",
   "language": "python",
   "name": "python3"
  },
  "language_info": {
   "codemirror_mode": {
    "name": "ipython",
    "version": 3
   },
   "file_extension": ".py",
   "mimetype": "text/x-python",
   "name": "python",
   "nbconvert_exporter": "python",
   "pygments_lexer": "ipython3",
   "version": "3.9.16"
  },
  "orig_nbformat": 4
 },
 "nbformat": 4,
 "nbformat_minor": 2
}
