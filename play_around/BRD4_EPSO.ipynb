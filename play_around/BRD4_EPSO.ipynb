{
 "cells": [
  {
   "cell_type": "code",
   "execution_count": 3,
   "metadata": {},
   "outputs": [],
   "source": [
    "import argparse\n",
    "import torch\n",
    "import sys\n",
    "sys.path.append('..')\n",
    "\n",
    "\n",
    "from models.ECloudDecipher.models.io.coati import load_e3gnn_smiles_clip_e2e\n",
    "from models.ECloudDecipher.models.regression.basic_due import basic_due\n",
    "from models.ECloudDecipher.utils.chem import read_sdf, write_sdf, rm_radical, sa, qed, logp\n",
    "from rdkit import Chem\n",
    "import random\n",
    "from models.ECloudDecipher.generative.molopt import gradient_opt\n",
    "from models.ECloudDecipher.generative.coati_purifications import embed_smiles\n",
    "from functools import partial\n",
    "from torch.nn.functional import sigmoid\n",
    "import torch.nn.functional as F\n",
    "import numpy as np\n",
    "from models.ECloudDecipher.generative.coati_purifications import force_decode_valid_batch, embed_smiles, force_decode_valid\n",
    "import os.path as osp\n",
    "from models.ECloudDecipher.optimize.scoring import ScoringFunction\n",
    "from models.ECloudDecipher.optimize.mol_functions import qed_score, substructure_match_score, penalize_macrocycles, heavy_atom_count, penalized_logp_score\n",
    "from models.ECloudDecipher.optimize.pso_optimizer import BasePSOptimizer\n",
    "from models.ECloudDecipher.optimize.swarm import Swarm\n",
    "from models.ECloudDecipher.optimize.rules.qsar_score import qsar_model\n",
    "\n",
    "\n",
    "arg_parser = argparse.ArgumentParser(description='molecular optimization on the chemical space')\n",
    "arg_parser.add_argument('--device', choices=['cuda:0', 'cpu'], \\\n",
    "    default='cuda:0',help='Device')\n",
    "arg_parser.add_argument('--seed', type=int, default=2024) \n",
    "arg_parser.add_argument('--ecloudgen_ckpt', type=str, default = '../model_ckpts/ecloud_smiles_67.pkl')\n",
    "args = arg_parser.parse_args([])"
   ]
  },
  {
   "cell_type": "code",
   "execution_count": 4,
   "metadata": {},
   "outputs": [
    {
     "name": "stdout",
     "output_type": "stream",
     "text": [
      "Loading model from ../model_ckpts/ecloud_smiles_67.pkl\n",
      "Loading tokenizer mar from ../model_ckpts/ecloud_smiles_67.pkl\n",
      "number of parameters: 12.64M\n",
      "number of parameters Total: 2.44M xformer: 19.60M Total: 22.04M \n",
      "Freezing encoder\n",
      "44882816 params frozen!\n"
     ]
    }
   ],
   "source": [
    "# model loading\n",
    "DEVICE = torch.device(args.device)\n",
    "DEVICE = 'cuda:0'\n",
    "encoder, tokenizer = load_e3gnn_smiles_clip_e2e(\n",
    "    freeze=True,\n",
    "    device=DEVICE,\n",
    "    # model parameters to load.\n",
    "    doc_url=args.ecloudgen_ckpt,\n",
    ")"
   ]
  },
  {
   "cell_type": "code",
   "execution_count": 5,
   "metadata": {},
   "outputs": [],
   "source": [
    "class EPSO_format_model():\n",
    "    def __init__(self, model, tokenizer, device):\n",
    "        self.model = model\n",
    "        self.tokenizer = tokenizer\n",
    "        self.device = device\n",
    "\n",
    "    def seq_to_emb(self, smiles):\n",
    "        if isinstance(smiles, str):\n",
    "            smi_emb = embed_smiles(smiles, self.model, self.tokenizer).to(DEVICE)\n",
    "            return smi_emb\n",
    "        else:\n",
    "            emb_list = []\n",
    "            for smi in smiles:\n",
    "                smi_emb = embed_smiles(smi, self.model, self.tokenizer).to(DEVICE)\n",
    "                emb_list.append(smi_emb)\n",
    "            return torch.stack(emb_list).reshape(-1, 256)\n",
    "\n",
    "    \n",
    "    def emb_to_seq(self, embs):\n",
    "\n",
    "        seq_list = []\n",
    "        for emb in embs:\n",
    "            seq = force_decode_valid_batch(emb, self.model, self.tokenizer)\n",
    "            seq_list.append(seq)\n",
    "        return seq_list"
   ]
  },
  {
   "cell_type": "code",
   "execution_count": 8,
   "metadata": {},
   "outputs": [],
   "source": [
    "from models.ECloudDecipher.optimize.mol_functions import obey_lipinski, get_HAcceptors, get_weight, sa_score, sim_score\n",
    "\n",
    "# heavy atom count \n",
    "heavy_atom_count_desirability = [{\"x\": 0, \"y\": 0}, {\"x\": 5, \"y\": 0.1}, {\"x\": 15, \"y\": 0.9}, {\"x\": 20, \"y\": 1.0}, {\"x\": 25, \"y\": 1.0}, {\"x\": 30, \"y\": 0.9,}, {\"x\": 40, \"y\": 0.1}, {\"x\": 45, \"y\": 0.0}]\n",
    "heavy_atom_count_scoring = ScoringFunction(heavy_atom_count, \"hac\", desirability=heavy_atom_count_desirability, is_mol_func=True)\n",
    "\n",
    "# weight \n",
    "weight_desirability = [{\"x\": 100, \"y\": 0.5}, {\"x\": 200, \"y\": 0.7}, {\"x\": 300, \"y\":1.0}, {\"x\": 400, \"y\": 1.0},{ \"x\": 500, \"y\": 1.0}]\n",
    "weight_scoring = ScoringFunction(get_weight, \"weight\", desirability=weight_desirability, is_mol_func=True)\n",
    "\n",
    "# subsructure_match\n",
    "substructure_mol = Chem.MolFromSmiles(\"c1ccccc1\")\n",
    "substructure_match_score = partial(substructure_match_score, query=substructure_mol) # use partial to define the additional argument (the substructure) \n",
    "miss_match_desirability = [{\"x\": 0, \"y\": 1}, {\"x\": 1, \"y\": 0}] # invert the resulting score to penalize for a match.\n",
    "\n",
    "# qed_score \n",
    "qed_desirability = [{\"x\": 0.6, \"y\": 1.0}, {\"x\": 1, \"y\": 1}]\n",
    "qed_scoring = ScoringFunction(qed_score, \"qed\", is_mol_func=True, truncate_left=True, truncate_right=False, desirability=qed_desirability)\n",
    "\n",
    "# sa_score \n",
    "sa_desirability = [{\"x\": 0.6, \"y\": 1.0}, {\"x\": 1, \"y\": 1}]\n",
    "sa_scoring = ScoringFunction(sa_score, 'sa', is_mol_func=True, truncate_left=False, truncate_right=False, desirability=sa_desirability)\n",
    "\n",
    "# lipinski\n",
    "linpinski_desirability = [{\"x\": 0, \"y\": 0}, {\"x\": 1, \"y\": 0}, {\"x\": 2, \"y\": 0}, {\"x\": 3, \"y\": 0.0}, {\"x\": 4, \"y\": 0.0},{\"x\": 5, \"y\": 1.0}]\n",
    "lipinski_scoring = ScoringFunction(func=obey_lipinski, name=\"lipinski\", desirability=linpinski_desirability, is_mol_func=True, truncate_left=False, truncate_right=False)\n",
    "\n",
    "# hydrogen bond acceptor\n",
    "haccept_desirability = [{\"x\": 0, \"y\": 0}, {\"x\": 1, \"y\": 1}, {\"x\": 2, \"y\": 1}]\n",
    "haccept_scoring = ScoringFunction(func=get_HAcceptors, name=\"HAcceptor\", desirability=haccept_desirability, is_mol_func=True, truncate_left=False, truncate_right=False)\n",
    "\n",
    "# similarity score\n",
    "similarity_desirability = [{\"x\": 0.6, \"y\": 1.0}, {\"x\": 1, \"y\": 1}]\n",
    "ref_mol = Chem.MolFromSmiles(\"c1ccccc1\")\n",
    "sim_to_ref_score = partial(sim_score, ref_mol=ref_mol)\n",
    "similarity_scoring = ScoringFunction(func=sim_to_ref_score, name=\"similarity\", desirability=similarity_desirability, is_mol_func=True, truncate_left=False, truncate_right=False)"
   ]
  },
  {
   "cell_type": "code",
   "execution_count": null,
   "metadata": {},
   "outputs": [
    {
     "name": "stdout",
     "output_type": "stream",
     "text": [
      "Particle Swarm Optimization...\n"
     ]
    },
    {
     "name": "stdout",
     "output_type": "stream",
     "text": [
      "Step 0, max: 0.957, min: 0.957, mean: 0.957\n",
      "Step 1, max: 1.000, min: 1.000, mean: 1.000\n",
      "Step 2, max: 1.000, min: 1.000, mean: 1.000\n",
      "Step 3, max: 1.000, min: 1.000, mean: 1.000\n"
     ]
    }
   ],
   "source": [
    "ecloud_latent = EPSO_format_model(encoder, tokenizer, DEVICE)\n",
    "init_mol = read_sdf('example/3uw9_starting.sdf')[0]\n",
    "init_smiles = Chem.MolToSmiles(init_mol)\n",
    "init_emb = ecloud_latent.seq_to_emb([init_smiles, init_smiles])\n",
    "\n",
    "scoring_functions = [\n",
    "    weight_scoring, \n",
    "    qed_scoring,\n",
    "    sa_scoring,\n",
    "    lipinski_scoring,\n",
    "    haccept_scoring,\n",
    "]\n",
    "\n",
    "pso_opt = BasePSOptimizer.from_query(\n",
    "    init_smiles=init_smiles,\n",
    "    num_part=200,\n",
    "    num_swarms=1,\n",
    "    inference_model=ecloud_latent,\n",
    "    scoring_functions=scoring_functions,\n",
    "    x_min=-10., \n",
    "    x_max=10.,\n",
    "    device=DEVICE)\n",
    "    \n",
    "pso_opt.run(20)"
   ]
  },
  {
   "cell_type": "code",
   "execution_count": null,
   "metadata": {},
   "outputs": [],
   "source": [
    "opt_smiles = pso_opt.best_solutions['smiles'].to_list()\n",
    "opt_mols = [Chem.MolFromSmiles(smi) for smi in opt_smiles]\n",
    "\n",
    "results_stats = {}\n",
    "for scoring_function in scoring_functions:\n",
    "    results_stats[scoring_function.name] = scoring_function(opt_mols)[0]\n",
    "    mean_score = np.mean(results_stats[scoring_function.name])\n",
    "    std_score = np.std(results_stats[scoring_function.name])\n",
    "    print(f\"{scoring_function.name}: {mean_score:.2f}, std:{std_score:.2f}\")"
   ]
  }
 ],
 "metadata": {
  "kernelspec": {
   "display_name": "ecloudgen",
   "language": "python",
   "name": "python3"
  },
  "language_info": {
   "codemirror_mode": {
    "name": "ipython",
    "version": 3
   },
   "file_extension": ".py",
   "mimetype": "text/x-python",
   "name": "python",
   "nbconvert_exporter": "python",
   "pygments_lexer": "ipython3",
   "version": "3.12.9"
  }
 },
 "nbformat": 4,
 "nbformat_minor": 2
}
