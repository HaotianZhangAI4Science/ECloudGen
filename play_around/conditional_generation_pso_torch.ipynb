{
 "cells": [
  {
   "cell_type": "code",
   "execution_count": 7,
   "metadata": {},
   "outputs": [],
   "source": [
    "import argparse\n",
    "import torch\n",
    "import sys\n",
    "sys.path.append('/home/odinz/molecular_design/ECloudGen_demo')\n",
    "\n",
    "\n",
    "from models.ECloudDecipher.models.io.coati import load_e3gnn_smiles_clip_e2e\n",
    "from models.ECloudDecipher.models.regression.basic_due import basic_due\n",
    "from models.ECloudDecipher.utils.chem import read_sdf, write_sdf, rm_radical, sa, qed, logp\n",
    "from rdkit import Chem\n",
    "import random\n",
    "from models.ECloudDecipher.generative.molopt import gradient_opt\n",
    "from models.ECloudDecipher.generative.coati_purifications import embed_smiles\n",
    "from functools import partial\n",
    "from torch.nn.functional import sigmoid\n",
    "import torch.nn.functional as F\n",
    "import numpy as np\n",
    "from models.ECloudDecipher.generative.coati_purifications import force_decode_valid_batch, embed_smiles, force_decode_valid\n",
    "import os.path as osp\n",
    "from models.ECloudDecipher.optimize.scoring import ScoringFunction\n",
    "from models.ECloudDecipher.optimize.mol_functions import qed_score, substructure_match_score, penalize_macrocycles, heavy_atom_count, penalized_logp_score\n",
    "from models.ECloudDecipher.optimize.pso_optimizer import BasePSOptimizer\n",
    "from models.ECloudDecipher.optimize.swarm import Swarm\n",
    "from models.ECloudDecipher.optimize.rules.qsar_score import qsar_model\n",
    "\n",
    "\n",
    "arg_parser = argparse.ArgumentParser(description='molecular optimization on the chemical space')\n",
    "arg_parser.add_argument('--device', choices=['cuda:0', 'cpu'], \\\n",
    "    default='cuda:0',help='Device')\n",
    "arg_parser.add_argument('--seed', type=int, default=2024) \n",
    "arg_parser.add_argument('--ecloudgen_ckpt', type=str, default = '../model_ckpts/ecloud_smiles_67.pkl')\n",
    "args = arg_parser.parse_args([])"
   ]
  },
  {
   "cell_type": "code",
   "execution_count": 6,
   "metadata": {},
   "outputs": [
    {
     "name": "stdout",
     "output_type": "stream",
     "text": [
      "Loading model from ../model_ckpts/ecloud_smiles_67.pkl\n",
      "Loading tokenizer mar from ../model_ckpts/ecloud_smiles_67.pkl\n",
      "number of parameters: 12.64M\n",
      "number of parameters Total: 2.44M xformer: 19.60M Total: 22.04M \n",
      "Freezing encoder\n",
      "44882816 params frozen!\n"
     ]
    }
   ],
   "source": [
    "# model loading\n",
    "DEVICE = torch.device(args.device)\n",
    "DEVICE = 'cuda:0'\n",
    "encoder, tokenizer = load_e3gnn_smiles_clip_e2e(\n",
    "    freeze=True,\n",
    "    device=DEVICE,\n",
    "    # model parameters to load.\n",
    "    doc_url=args.ecloudgen_ckpt,\n",
    ")"
   ]
  },
  {
   "cell_type": "code",
   "execution_count": 8,
   "metadata": {},
   "outputs": [],
   "source": [
    "class PSO_format_model():\n",
    "    def __init__(self, model, tokenizer, device):\n",
    "        self.model = model\n",
    "        self.tokenizer = tokenizer\n",
    "        self.device = device\n",
    "\n",
    "    def seq_to_emb(self, smiles):\n",
    "        if isinstance(smiles, str):\n",
    "            smi_emb = embed_smiles(smiles, self.model, self.tokenizer).to(DEVICE)\n",
    "            return smi_emb\n",
    "        else:\n",
    "            emb_list = []\n",
    "            for smi in smiles:\n",
    "                smi_emb = embed_smiles(smi, self.model, self.tokenizer).to(DEVICE)\n",
    "                emb_list.append(smi_emb)\n",
    "            return torch.stack(emb_list).reshape(-1, 256)\n",
    "\n",
    "    \n",
    "    def emb_to_seq(self, embs):\n",
    "\n",
    "        seq_list = []\n",
    "        for emb in embs:\n",
    "            seq = force_decode_valid_batch(emb, self.model, self.tokenizer)\n",
    "            seq_list.append(seq)\n",
    "        return seq_list"
   ]
  }
 ],
 "metadata": {
  "kernelspec": {
   "display_name": "ecloudgen",
   "language": "python",
   "name": "python3"
  },
  "language_info": {
   "codemirror_mode": {
    "name": "ipython",
    "version": 3
   },
   "file_extension": ".py",
   "mimetype": "text/x-python",
   "name": "python",
   "nbconvert_exporter": "python",
   "pygments_lexer": "ipython3",
   "version": "3.12.9"
  }
 },
 "nbformat": 4,
 "nbformat_minor": 2
}
