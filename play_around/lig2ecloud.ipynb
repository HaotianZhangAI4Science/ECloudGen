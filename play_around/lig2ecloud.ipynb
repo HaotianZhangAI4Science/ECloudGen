{
 "cells": [
  {
   "cell_type": "code",
   "execution_count": 11,
   "metadata": {},
   "outputs": [],
   "source": [
    "import os\n",
    "import pandas as pd\n",
    "import numpy as np\n",
    "from grid2 import BuildGridCenters\n",
    "from rdkit import Chem\n",
    "from rdkit.Chem import AllChem\n",
    "from tqdm import tqdm\n",
    "import h5py\n",
    "from xtb_density import interplot_ecloud\n",
    "from chem import get_center, read_sdf\n",
    "import shutil\n",
    "from glob import glob"
   ]
  },
  {
   "cell_type": "code",
   "execution_count": 3,
   "metadata": {},
   "outputs": [],
   "source": [
    "# Now choose the protocol for your data, size, N, respolution control the grid size\n",
    "def protocol(mode=32):\n",
    "    size = mode\n",
    "    N = [size, size, size]\n",
    "    if mode == 32:\n",
    "        resolution = 0.5\n",
    "        llc = (np.zeros(3) - float(size * resolution / 2)) + resolution / 2\n",
    "        grids = BuildGridCenters(llc, N, resolution)\n",
    "    elif mode == 64:\n",
    "        resolution = 0.2\n",
    "        llc = (np.zeros(3) - float(size * resolution / 2)) + resolution / 2\n",
    "        grids = BuildGridCenters(llc, N, resolution)\n",
    "    \n",
    "    return {'grids':grids, 'N':N}\n",
    "\n",
    "def get_ligecloud(mol,calculater, protocol, add_noise=True):\n",
    "    '''\n",
    "    Input:\n",
    "        mol: rdkit 3D mol\n",
    "        calculater: xtb density calculater\n",
    "        protocol: protocol for the grid, format: {'grids':(32, 32, 32, 3), 'N':[32, 32, 32]}\n",
    "        add_noise: add noise to the ligand grid\n",
    "    Output:\n",
    "        lig_density: ligand electron density, shape: (32, 32, 32)\n",
    "    '''\n",
    "    stand_grid = protocol['grids']\n",
    "    N = protocol['N']\n",
    "    mol_center = mol_center = get_center(mol) \n",
    "    lig_grids = stand_grid + mol_center \n",
    "    if add_noise:\n",
    "        lig_grids += np.random.randn(3).astype(np.float32)\n",
    "    lig_ecloud = calculater.calculate(mol)\n",
    "    lig_density = interplot_ecloud(lig_ecloud, lig_grids.transpose(3, 0, 1, 2)).reshape(N)\n",
    "    return lig_density"
   ]
  },
  {
   "cell_type": "code",
   "execution_count": 4,
   "metadata": {},
   "outputs": [],
   "source": [
    "# load molecule\n",
    "mol = read_sdf('ligand.sdf')[0]"
   ]
  },
  {
   "cell_type": "code",
   "execution_count": 5,
   "metadata": {},
   "outputs": [
    {
     "data": {
      "image/png": "[encoded data removed]",
      "text/html": [
       "<table><tr><td colspan=\"2\" style=\"text-align: center;\"><image src=\"data:image/png;base64,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\"></td></tr>\n",
       "<tr><th style=\"text-align: right\">MODEL</th><td style=\"text-align: left\">       1</td></tr>\n",
       "<tr><th style=\"text-align: right\">COMPND</th><td style=\"text-align: left\">    UNNAMED</td></tr>\n",
       "<tr><th style=\"text-align: right\">AUTHOR</th><td style=\"text-align: left\">    GENERATED BY OPEN BABEL 2.4.90</td></tr>\n",
       "<tr><th style=\"text-align: right\">MASTER</th><td style=\"text-align: left\">        0    0    0    0    0    0    0    0   29    0   29    0</td></tr></table>"
      ],
      "text/plain": [
       "<rdkit.Chem.rdchem.Mol at 0x7f8144a317b0>"
      ]
     },
     "execution_count": 5,
     "metadata": {},
     "output_type": "execute_result"
    }
   ],
   "source": [
    "mol"
   ]
  },
  {
   "cell_type": "code",
   "execution_count": 14,
   "metadata": {},
   "outputs": [],
   "source": [
    "# define calculater\n",
    "from xtb_density import CDCalculator, interplot_ecloud\n",
    "calculater = CDCalculator(xtb_command='/home/haotian/Molecule_Generation/MG/ECloudGen_old/xtb-bleed/bin/xtb')\n",
    "# calculator will create a temp folder"
   ]
  },
  {
   "cell_type": "code",
   "execution_count": 15,
   "metadata": {},
   "outputs": [],
   "source": [
    "# get ligand electron density easily\n",
    "lig_density = get_ligecloud(mol,calculater, protocol(32))\n"
   ]
  },
  {
   "cell_type": "code",
   "execution_count": 16,
   "metadata": {},
   "outputs": [
    {
     "data": {
      "text/plain": [
       "(32, 32, 32)"
      ]
     },
     "execution_count": 16,
     "metadata": {},
     "output_type": "execute_result"
    }
   ],
   "source": [
    "lig_density.shape"
   ]
  },
  {
   "cell_type": "code",
   "execution_count": 19,
   "metadata": {},
   "outputs": [],
   "source": [
    "# remove the temp folder\n",
    "temp_dirs = glob('./temp/*')\n",
    "for temp_dir in temp_dirs:\n",
    "    shutil.rmtree(temp_dir)\n",
    "    print(f'{temp_dir} removed')"
   ]
  },
  {
   "cell_type": "code",
   "execution_count": 10,
   "metadata": {},
   "outputs": [],
   "source": [
    "# save the ligand electron density as npy file\n",
    "np.save(f'lig_density.npy',lig_density)"
   ]
  },
  {
   "cell_type": "code",
   "execution_count": 21,
   "metadata": {},
   "outputs": [],
   "source": [
    "import pickle\n",
    "def read_pkl(file):\n",
    "    with open(file, 'rb') as f:\n",
    "        data = pickle.load(f)\n",
    "    return data"
   ]
  }
 ],
 "metadata": {
  "kernelspec": {
   "display_name": "resgen",
   "language": "python",
   "name": "python3"
  },
  "language_info": {
   "codemirror_mode": {
    "name": "ipython",
    "version": 3
   },
   "file_extension": ".py",
   "mimetype": "text/x-python",
   "name": "python",
   "nbconvert_exporter": "python",
   "pygments_lexer": "ipython3",
   "version": "3.9.16"
  },
  "orig_nbformat": 4
 },
 "nbformat": 4,
 "nbformat_minor": 2
}
