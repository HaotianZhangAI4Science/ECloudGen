{
 "cells": [
  {
   "cell_type": "code",
   "execution_count": 17,
   "metadata": {},
   "outputs": [],
   "source": [
    "from utils.xtb_density import CDCalculator, interplot_ecloud\n",
    "from utils.grid import *\n",
    "from utils.chem import *\n",
    "from moleculekit.smallmol.smallmol import SmallMol\n",
    "from moleculekit.tools.voxeldescriptors import _getOccupancyC"
   ]
  },
  {
   "cell_type": "code",
   "execution_count": null,
   "metadata": {},
   "outputs": [],
   "source": []
  },
  {
   "cell_type": "code",
   "execution_count": 7,
   "metadata": {},
   "outputs": [],
   "source": [
    "calculater = CDCalculator(xtb_command='/home/haotian/Molecule_Generation/MG/ECloudGen/xtb-bleed/bin/xtb')"
   ]
  },
  {
   "cell_type": "code",
   "execution_count": 5,
   "metadata": {},
   "outputs": [],
   "source": [
    "pkt_mol = Chem.MolFromPDBFile('./pkt.pdb')\n",
    "lig_mol = read_sdf('./lig.sdf')[0]"
   ]
  },
  {
   "cell_type": "code",
   "execution_count": 8,
   "metadata": {},
   "outputs": [],
   "source": [
    "resolution = 0.3\n",
    "size = 24\n",
    "N = [size, size, size]\n",
    "llc = (np.zeros(3) - float(size * 1. / 2))\n",
    "# Now, the box is 24×24×24 A^3\n",
    "expanded_pcenters = BuildGridCenters(llc, N, resolution)"
   ]
  },
  {
   "cell_type": "code",
   "execution_count": 14,
   "metadata": {},
   "outputs": [
    {
     "name": "stderr",
     "output_type": "stream",
     "text": [
      "2023-05-18 10:56:55,862 - moleculekit.smallmol.smallmol - INFO - Adding any missing hydrogens (fixHs=True)\n",
      "2023-05-18 10:56:55,863 - moleculekit.smallmol.smallmol - INFO - Adding any missing hydrogens (fixHs=True)\n"
     ]
    }
   ],
   "source": [
    "rotation = True\n",
    "\n",
    "pkt_smallmol = SmallMol(pkt_mol)\n",
    "lig_smallmol = SmallMol(lig_mol)\n",
    "\n",
    "\n",
    "lig_coords = lig_smallmol._coords[: , : , 0]\n",
    "lig_center = np.mean(lig_coords, axis=0)\n",
    "\n",
    "# define the pkt channel\n",
    "pkt_sigmas, pkt_coords, pkt_center = generate_sigmas(pkt_smallmol)\n",
    "\n",
    "# use the pkt_center as the whole center\n",
    "pkt_grids = expanded_pcenters + pkt_center\n",
    "lig_grids = expanded_pcenters + lig_center\n",
    "\n",
    "\n",
    "# Do the rotation\n",
    "if rotation:\n",
    "    rrot = uniformRandomRotation()  # Rotation\n",
    "    lig_coords = rotate(lig_coords, rrot, center=lig_center)\n",
    "    pkt_coords = rotate(pkt_coords, rrot, center=pkt_center)\n",
    "\n",
    "\n",
    "\n",
    "pkt_grid = _getOccupancyC(pkt_coords.astype(np.float32),\n",
    "                            pkt_grids.reshape(-1, 3),\n",
    "                            pkt_sigmas).reshape(size, size, size, 8)\n",
    "\n",
    "lig_ecloud = calculater.calculate(lig_mol)"
   ]
  },
  {
   "cell_type": "code",
   "execution_count": 32,
   "metadata": {},
   "outputs": [],
   "source": [
    "lig_density = interplot_ecloud(lig_ecloud, expanded_pcenters.transpose(3,0,1,2)).reshape(N)"
   ]
  },
  {
   "cell_type": "code",
   "execution_count": null,
   "metadata": {},
   "outputs": [],
   "source": []
  }
 ],
 "metadata": {
  "kernelspec": {
   "display_name": "Python 3.9.16 ('ecloudgen')",
   "language": "python",
   "name": "python3"
  },
  "language_info": {
   "codemirror_mode": {
    "name": "ipython",
    "version": 3
   },
   "file_extension": ".py",
   "mimetype": "text/x-python",
   "name": "python",
   "nbconvert_exporter": "python",
   "pygments_lexer": "ipython3",
   "version": "3.9.16"
  },
  "orig_nbformat": 4,
  "vscode": {
   "interpreter": {
    "hash": "9e31ffdbb73f50515c579a2fef6a8a4d932679b0c6584fdeb3b3c02b71bfacbc"
   }
  }
 },
 "nbformat": 4,
 "nbformat_minor": 2
}
